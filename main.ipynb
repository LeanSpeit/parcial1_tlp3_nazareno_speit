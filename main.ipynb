{
 "cells": [
  {
   "cell_type": "markdown",
   "id": "9fee5ee9",
   "metadata": {},
   "source": [
    "# Examen Parcial n°1 2da Parte - TLP3 - Python para Ciencia de Datos.\n"
   ]
  },
  {
   "cell_type": "markdown",
   "id": "999099d0",
   "metadata": {},
   "source": [
    "**A partir del datasets brindado, realizar los siguientes procedimientos:**\n",
    "\n",
    "* Importar datasets con Pandas.\n",
    "* Explorar los datos con los metodos correspondientes. \n",
    "* Limpieza de los datos (Normalización de datos).\n",
    "* Obtener estadisticas.\n",
    "* Mostrar los datos procesados con graficos utilizando la libreria Matplotlib.\n",
    "* Exportar el contenido a un archivo sqlite utilizando PANDAS.\n",
    "\n",
    "\n",
    "**Importante: Se debe documentar cada procedimiento realizado, siguiendo la siguiente estructura:**\n",
    "\n",
    "1. Celda de Markdown (Documentación)\n",
    "2. Código (Sin comentarios, se debe documentar lo sufiente solo en la celda de markdown).\n",
    "\n",
    "\n",
    "### Criterios de Evaluación:\n",
    "\n",
    "1. No esta permitido el uso de IAs durante el examen. (Desactivar Copilot o cualquier herramienta de IA para autocompletar codigo.)\n",
    "\n",
    "2. Se deben utilizar nombres de variables descriptivos y claros (Utilizar la nomeclatura correspondiente para los nombres de variables).\n",
    "\n",
    "3. Comentarios claros y concisos que expliquen el propósito de cada sección del código en una celda de markdown antes del código.\n",
    "\n",
    "4. Utilizar mensajes de commit descriptivos. (Puedes utilizar la extension CONVENTIONAL COMMIT de VS-CODE).\n",
    "\n",
    "5. Entrega en tiempo y forma (Parciales entregados fuera de hora o con commits pasados el horario de entrega quedará invalidado.)\n",
    "\n",
    "6. Todo el código desarrollado debe ser subido a un repositorio en GitHub (el nombre del repositorio de seguir la siguiente estructura: \n",
    "**parcial1_tlp3_nombre_apellido**).\n",
    "\n",
    "7. Para resolver las actividades se debe insertar casillas de codigo entre cada actividad del cuaderno de Jupyter.\n",
    "\n",
    "8. Deben trabajar con el datasets adjunto.\n",
    "\n",
    "9. Una vez finalizado el examen, los resultados deben quedar guardados debajo de cada celda (NO EJECUTAR LA OPCIÓN \"borrar todas las salidas\").\n",
    "\n",
    "**Importante:** Una vez finalizado el examen, marcar como completado en el classroom."
   ]
  },
  {
   "cell_type": "markdown",
   "id": "dd91f969",
   "metadata": {},
   "source": [
    "## Actividades: \n",
    "### 1. Importación del Dataset con Pandas\n",
    "\n",
    "En esta sección, se debe utilizar la librería Pandas para cargar el archivo CSV que contiene los datos de VENTAS en un DataFrame.\n",
    "\n",
    "### 2. Exploración Inicial de los Datos\n",
    "\n",
    "A continuación, se deben emplear métodos de Pandas para obtener una visión general del dataset. \n",
    "- 2.1: Visualizar las primeras filas y ultimas.\n",
    "- 2.2: Obtener informacion del df con su metodo correspondiente.\n",
    "- 2.3: Hacer un conteo de valores nulos.\n",
    "\n",
    "### 3. Limpieza y Normalización de los Datos\n",
    "\n",
    "- 3.1. Esta etapa crucial deben aplicar la corrección de diversos errores presentes en el dataset. Se abordarán los valores faltantes (Deben aplicar los metodos que ustedes crean convenientes **(Solo 1)**, por ejemplo: Eliminación de filas, cubrir valores con media, mediana, etc.)\n",
    "- 3.2: La columna Fecha deberan pasarla al tipo datetime con su metodo correspondiente.\n",
    "- 3.3: Corregir las mayusculas en el caso de Nombre y Apellido (Si es que corresponde.)\n",
    "\n",
    "\n",
    "### 4. Obtención de Estadísticas Descriptivas\n",
    "\n",
    "Después de la limpieza, deben hacer lo siguiente: \n",
    "\n",
    "- 4.1: calcular nuevamente las estadísticas descriptivas para observar el impacto del proceso de limpieza en los datos numéricos.\n",
    "- 4.2: Calcular estadísticas específicas por grupo (Agrupar dos columnas).\n",
    "\n",
    "### 5. Visualización de los Datos con Matplotlib\n",
    "\n",
    "En esta sección, deben utilizar la librería Matplotlib para crear **UNA** visualización que permitan comprender mejor los datos de ventas.El grafico es a elección, puede crear **UNO** de los siguientes: histogramas, diagramas de dispersión, gráficos de barras y graficos de torta.\n",
    "\n",
    "### 6. Exportación a Archivo SQLite\n",
    "\n",
    "Finalmente, deben utilizar la funcionalidad de Pandas para guardar el DataFrame procesado en una base de datos SQLite. Deben hacer una conexión y hacer una consulta para ver si los datos fueron cargados correctamente.\n",
    "\n"
   ]
  },
  {
   "cell_type": "markdown",
   "id": "5fdb0f9f",
   "metadata": {},
   "source": [
    "## Importamos librerías"
   ]
  },
  {
   "cell_type": "code",
   "execution_count": 3,
   "id": "08a704ee",
   "metadata": {},
   "outputs": [],
   "source": [
    "import pandas as pd\n",
    "import matplotlib.pyplot as plt"
   ]
  },
  {
   "cell_type": "markdown",
   "id": "8168b61e",
   "metadata": {},
   "source": [
    "## Importamos el Dataset con Pandas"
   ]
  },
  {
   "cell_type": "code",
   "execution_count": 4,
   "id": "2b1b71b8",
   "metadata": {},
   "outputs": [],
   "source": [
    "df=pd.read_csv('ventas.csv')"
   ]
  },
  {
   "cell_type": "markdown",
   "id": "2237782c",
   "metadata": {},
   "source": [
    "## Exploramos los datos"
   ]
  },
  {
   "cell_type": "code",
   "execution_count": 5,
   "id": "035d51e9",
   "metadata": {},
   "outputs": [
    {
     "name": "stdout",
     "output_type": "stream",
     "text": [
      "Visualizamos las primeras 5 filas\n",
      "   ID_Venta Nombre_Cliente Apellido_Cliente       Fecha  \\\n",
      "0         1            Ana           García  01-05-2024   \n",
      "1         2         Carlos            López  2024-01-08   \n",
      "2         3          sofía         martínez  2024-01-12   \n",
      "3         4          pedro        rodríguez  2024-01-15   \n",
      "4         5          Laura          Sánchez  18-01-2024   \n",
      "\n",
      "                Producto  Cantidad  Precio_Unitario  Total_Venta  \\\n",
      "0                 Laptop         1          1200.50      1200.50   \n",
      "1      Mouse Inalámbrico         2            25.75        51.50   \n",
      "2       Teclado Mecánico         1            75.99        75.99   \n",
      "3    Monitor 24 pulgadas         1              NaN          NaN   \n",
      "4  Auriculares Bluetooth         1            99.95        99.95   \n",
      "\n",
      "              Metodo_Pago Region  \n",
      "0      Tarjeta de Crédito  Norte  \n",
      "1                Efectivo    Sur  \n",
      "2  Transferencia Bancaria   Este  \n",
      "3       Tarjeta de Débito  Oeste  \n",
      "4      Tarjeta de Crédito  Norte  \n",
      "<------------------------------------>\n",
      "Visualizamos las últimas 5 filas\n",
      "     ID_Venta Nombre_Cliente Apellido_Cliente       Fecha  \\\n",
      "100       101        Agustín           Torres  2024-10-08   \n",
      "101       102         Camila             Vega  2024-10-11   \n",
      "102       103           Juan            Rojas  2024-10-15   \n",
      "103       104          Lucía            Silva  2024-10-18   \n",
      "104       105          mateo             luna  2024-10-22   \n",
      "\n",
      "                 Producto  Cantidad  Precio_Unitario  Total_Venta  \\\n",
      "100        Pen Drive 64GB         4             8.75         35.0   \n",
      "101         Laptop Ligera         1              NaN       1180.0   \n",
      "102                   NaN         1            48.99          NaN   \n",
      "103     Teclado Bluetooth         1            78.20         78.2   \n",
      "104  Monitor para Oficina         1             2.00        210.5   \n",
      "\n",
      "                Metodo_Pago Region  \n",
      "100       Tarjeta de Débito  Oeste  \n",
      "101      Tarjeta de Crédito  Norte  \n",
      "102                Efectivo    Sur  \n",
      "103  Transferencia Bancaria   Este  \n",
      "104       Tarjeta de Débito  Oeste  \n",
      "<------------------------------------>\n",
      "Información de datos\n",
      "<class 'pandas.core.frame.DataFrame'>\n",
      "RangeIndex: 105 entries, 0 to 104\n",
      "Data columns (total 10 columns):\n",
      " #   Column            Non-Null Count  Dtype  \n",
      "---  ------            --------------  -----  \n",
      " 0   ID_Venta          105 non-null    int64  \n",
      " 1   Nombre_Cliente    105 non-null    object \n",
      " 2   Apellido_Cliente  105 non-null    object \n",
      " 3   Fecha             105 non-null    object \n",
      " 4   Producto          101 non-null    object \n",
      " 5   Cantidad          105 non-null    int64  \n",
      " 6   Precio_Unitario   92 non-null     float64\n",
      " 7   Total_Venta       92 non-null     float64\n",
      " 8   Metodo_Pago       94 non-null     object \n",
      " 9   Region            100 non-null    object \n",
      "dtypes: float64(2), int64(2), object(6)\n",
      "memory usage: 8.3+ KB\n",
      "None\n"
     ]
    }
   ],
   "source": [
    "print(\"Visualizamos las primeras 5 filas\")\n",
    "print(df.head())\n",
    "\n",
    "print(\"<------------------------------------>\")\n",
    "\n",
    "print(\"Visualizamos las últimas 5 filas\")\n",
    "print(df.tail())\n",
    "\n",
    "print(\"<------------------------------------>\")\n",
    "\n",
    "print(\"Información de datos\")\n",
    "print(df.info())"
   ]
  },
  {
   "cell_type": "markdown",
   "id": "ac7f8732",
   "metadata": {},
   "source": [
    "## Hacemos un conteo de los valores nulos"
   ]
  },
  {
   "cell_type": "code",
   "execution_count": 7,
   "id": "70f08af3",
   "metadata": {},
   "outputs": [
    {
     "name": "stdout",
     "output_type": "stream",
     "text": [
      "ID_Venta             0\n",
      "Nombre_Cliente       0\n",
      "Apellido_Cliente     0\n",
      "Fecha                0\n",
      "Producto             4\n",
      "Cantidad             0\n",
      "Precio_Unitario     13\n",
      "Total_Venta         13\n",
      "Metodo_Pago         11\n",
      "Region               5\n",
      "dtype: int64\n"
     ]
    }
   ],
   "source": [
    "print(df.isnull().sum())"
   ]
  },
  {
   "cell_type": "markdown",
   "id": "ae484f16",
   "metadata": {},
   "source": [
    "## Convertimos los datos de las columnas Precio_Unitario y Total_Venta a int (enteros)"
   ]
  },
  {
   "cell_type": "code",
   "execution_count": 8,
   "id": "f41e8c9f",
   "metadata": {},
   "outputs": [
    {
     "name": "stdout",
     "output_type": "stream",
     "text": [
      "<class 'pandas.core.frame.DataFrame'>\n",
      "RangeIndex: 105 entries, 0 to 104\n",
      "Data columns (total 10 columns):\n",
      " #   Column            Non-Null Count  Dtype  \n",
      "---  ------            --------------  -----  \n",
      " 0   ID_Venta          105 non-null    int64  \n",
      " 1   Nombre_Cliente    105 non-null    object \n",
      " 2   Apellido_Cliente  105 non-null    object \n",
      " 3   Fecha             105 non-null    object \n",
      " 4   Producto          101 non-null    object \n",
      " 5   Cantidad          105 non-null    int64  \n",
      " 6   Precio_Unitario   92 non-null     float64\n",
      " 7   Total_Venta       92 non-null     float64\n",
      " 8   Metodo_Pago       94 non-null     object \n",
      " 9   Region            100 non-null    object \n",
      "dtypes: float64(2), int64(2), object(6)\n",
      "memory usage: 8.3+ KB\n"
     ]
    }
   ],
   "source": [
    "df[\"Precio_Unitario\"]=pd.to_numeric(df[\"Precio_Unitario\"], errors='coerce')\n",
    "df[\"Total_Venta\"]=pd.to_numeric(df[\"Total_Venta\"], errors='coerce')\n",
    "\n",
    "df.info()"
   ]
  },
  {
   "cell_type": "markdown",
   "id": "02fd2ca9",
   "metadata": {},
   "source": [
    "## Limpiamos los valores NaN"
   ]
  },
  {
   "cell_type": "code",
   "execution_count": 9,
   "id": "28a89279",
   "metadata": {},
   "outputs": [
    {
     "name": "stderr",
     "output_type": "stream",
     "text": [
      "C:\\Users\\IPF-2024\\AppData\\Local\\Temp\\ipykernel_7536\\838566159.py:3: FutureWarning: A value is trying to be set on a copy of a DataFrame or Series through chained assignment using an inplace method.\n",
      "The behavior will change in pandas 3.0. This inplace method will never work because the intermediate object on which we are setting values always behaves as a copy.\n",
      "\n",
      "For example, when doing 'df[col].method(value, inplace=True)', try using 'df.method({col: value}, inplace=True)' or df[col] = df[col].method(value) instead, to perform the operation inplace on the original object.\n",
      "\n",
      "\n",
      "  df[\"Metodo_Pago\"].fillna(\"Sin Region\", inplace=True)\n",
      "C:\\Users\\IPF-2024\\AppData\\Local\\Temp\\ipykernel_7536\\838566159.py:4: FutureWarning: A value is trying to be set on a copy of a DataFrame or Series through chained assignment using an inplace method.\n",
      "The behavior will change in pandas 3.0. This inplace method will never work because the intermediate object on which we are setting values always behaves as a copy.\n",
      "\n",
      "For example, when doing 'df[col].method(value, inplace=True)', try using 'df.method({col: value}, inplace=True)' or df[col] = df[col].method(value) instead, to perform the operation inplace on the original object.\n",
      "\n",
      "\n",
      "  df[\"Region\"].fillna(\"Sin Region\", inplace=True)\n",
      "C:\\Users\\IPF-2024\\AppData\\Local\\Temp\\ipykernel_7536\\838566159.py:5: FutureWarning: A value is trying to be set on a copy of a DataFrame or Series through chained assignment using an inplace method.\n",
      "The behavior will change in pandas 3.0. This inplace method will never work because the intermediate object on which we are setting values always behaves as a copy.\n",
      "\n",
      "For example, when doing 'df[col].method(value, inplace=True)', try using 'df.method({col: value}, inplace=True)' or df[col] = df[col].method(value) instead, to perform the operation inplace on the original object.\n",
      "\n",
      "\n",
      "  df[\"Producto\"].fillna(\"Desconocido\", inplace=True)\n"
     ]
    },
    {
     "data": {
      "text/html": [
       "<div>\n",
       "<style scoped>\n",
       "    .dataframe tbody tr th:only-of-type {\n",
       "        vertical-align: middle;\n",
       "    }\n",
       "\n",
       "    .dataframe tbody tr th {\n",
       "        vertical-align: top;\n",
       "    }\n",
       "\n",
       "    .dataframe thead th {\n",
       "        text-align: right;\n",
       "    }\n",
       "</style>\n",
       "<table border=\"1\" class=\"dataframe\">\n",
       "  <thead>\n",
       "    <tr style=\"text-align: right;\">\n",
       "      <th></th>\n",
       "      <th>ID_Venta</th>\n",
       "      <th>Nombre_Cliente</th>\n",
       "      <th>Apellido_Cliente</th>\n",
       "      <th>Fecha</th>\n",
       "      <th>Producto</th>\n",
       "      <th>Cantidad</th>\n",
       "      <th>Precio_Unitario</th>\n",
       "      <th>Total_Venta</th>\n",
       "      <th>Metodo_Pago</th>\n",
       "      <th>Region</th>\n",
       "    </tr>\n",
       "  </thead>\n",
       "  <tbody>\n",
       "    <tr>\n",
       "      <th>0</th>\n",
       "      <td>1</td>\n",
       "      <td>Ana</td>\n",
       "      <td>García</td>\n",
       "      <td>01-05-2024</td>\n",
       "      <td>Laptop</td>\n",
       "      <td>1</td>\n",
       "      <td>1200.50</td>\n",
       "      <td>1200.50</td>\n",
       "      <td>Tarjeta de Crédito</td>\n",
       "      <td>Norte</td>\n",
       "    </tr>\n",
       "    <tr>\n",
       "      <th>1</th>\n",
       "      <td>2</td>\n",
       "      <td>Carlos</td>\n",
       "      <td>López</td>\n",
       "      <td>2024-01-08</td>\n",
       "      <td>Mouse Inalámbrico</td>\n",
       "      <td>2</td>\n",
       "      <td>25.75</td>\n",
       "      <td>51.50</td>\n",
       "      <td>Efectivo</td>\n",
       "      <td>Sur</td>\n",
       "    </tr>\n",
       "    <tr>\n",
       "      <th>2</th>\n",
       "      <td>3</td>\n",
       "      <td>sofía</td>\n",
       "      <td>martínez</td>\n",
       "      <td>2024-01-12</td>\n",
       "      <td>Teclado Mecánico</td>\n",
       "      <td>1</td>\n",
       "      <td>75.99</td>\n",
       "      <td>75.99</td>\n",
       "      <td>Transferencia Bancaria</td>\n",
       "      <td>Este</td>\n",
       "    </tr>\n",
       "    <tr>\n",
       "      <th>3</th>\n",
       "      <td>4</td>\n",
       "      <td>pedro</td>\n",
       "      <td>rodríguez</td>\n",
       "      <td>2024-01-15</td>\n",
       "      <td>Monitor 24 pulgadas</td>\n",
       "      <td>1</td>\n",
       "      <td>91.00</td>\n",
       "      <td>97.20</td>\n",
       "      <td>Tarjeta de Débito</td>\n",
       "      <td>Oeste</td>\n",
       "    </tr>\n",
       "    <tr>\n",
       "      <th>4</th>\n",
       "      <td>5</td>\n",
       "      <td>Laura</td>\n",
       "      <td>Sánchez</td>\n",
       "      <td>18-01-2024</td>\n",
       "      <td>Auriculares Bluetooth</td>\n",
       "      <td>1</td>\n",
       "      <td>99.95</td>\n",
       "      <td>99.95</td>\n",
       "      <td>Tarjeta de Crédito</td>\n",
       "      <td>Norte</td>\n",
       "    </tr>\n",
       "  </tbody>\n",
       "</table>\n",
       "</div>"
      ],
      "text/plain": [
       "   ID_Venta Nombre_Cliente Apellido_Cliente       Fecha  \\\n",
       "0         1            Ana           García  01-05-2024   \n",
       "1         2         Carlos            López  2024-01-08   \n",
       "2         3          sofía         martínez  2024-01-12   \n",
       "3         4          pedro        rodríguez  2024-01-15   \n",
       "4         5          Laura          Sánchez  18-01-2024   \n",
       "\n",
       "                Producto  Cantidad  Precio_Unitario  Total_Venta  \\\n",
       "0                 Laptop         1          1200.50      1200.50   \n",
       "1      Mouse Inalámbrico         2            25.75        51.50   \n",
       "2       Teclado Mecánico         1            75.99        75.99   \n",
       "3    Monitor 24 pulgadas         1            91.00        97.20   \n",
       "4  Auriculares Bluetooth         1            99.95        99.95   \n",
       "\n",
       "              Metodo_Pago Region  \n",
       "0      Tarjeta de Crédito  Norte  \n",
       "1                Efectivo    Sur  \n",
       "2  Transferencia Bancaria   Este  \n",
       "3       Tarjeta de Débito  Oeste  \n",
       "4      Tarjeta de Crédito  Norte  "
      ]
     },
     "execution_count": 9,
     "metadata": {},
     "output_type": "execute_result"
    }
   ],
   "source": [
    "df[\"Precio_Unitario\"]=df[\"Precio_Unitario\"].fillna(df[\"Precio_Unitario\"].median().round(1))\n",
    "df[\"Total_Venta\"]=df[\"Total_Venta\"].fillna(df[\"Total_Venta\"].median().round(1))\n",
    "df[\"Metodo_Pago\"].fillna(\"Sin Region\", inplace=True)\n",
    "df[\"Region\"].fillna(\"Sin Region\", inplace=True)\n",
    "df[\"Producto\"].fillna(\"Desconocido\", inplace=True)\n",
    "\n",
    "df.head()"
   ]
  },
  {
   "cell_type": "markdown",
   "id": "7f549b2d",
   "metadata": {},
   "source": [
    "## Pasamos la columna fecha a tipo datetime"
   ]
  },
  {
   "cell_type": "code",
   "execution_count": 12,
   "id": "e8f26ea2",
   "metadata": {},
   "outputs": [
    {
     "data": {
      "text/plain": [
       "0     NaT\n",
       "1     NaT\n",
       "2     NaT\n",
       "3     NaT\n",
       "4     NaT\n",
       "       ..\n",
       "100   NaT\n",
       "101   NaT\n",
       "102   NaT\n",
       "103   NaT\n",
       "104   NaT\n",
       "Name: Fecha, Length: 105, dtype: datetime64[ns]"
      ]
     },
     "execution_count": 12,
     "metadata": {},
     "output_type": "execute_result"
    }
   ],
   "source": [
    "fecha=pd.Series(df[\"Fecha\"])\n",
    "\n",
    "fecha_corregida=pd.to_datetime(fecha, format=\"%d/%m/%Y\", errors='coerce')\n",
    "fecha_corregida2=pd.to_datetime(fecha, format=\"%d/%m/%Y\", errors='coerce')\n",
    "\n",
    "fecha_correcta=fecha_corregida.combine_first(fecha_corregida2)\n",
    "fecha_correcta"
   ]
  },
  {
   "cell_type": "code",
   "execution_count": 11,
   "id": "54fe18fa",
   "metadata": {},
   "outputs": [
    {
     "name": "stdout",
     "output_type": "stream",
     "text": [
      "<class 'pandas.core.frame.DataFrame'>\n",
      "RangeIndex: 105 entries, 0 to 104\n",
      "Data columns (total 10 columns):\n",
      " #   Column            Non-Null Count  Dtype         \n",
      "---  ------            --------------  -----         \n",
      " 0   ID_Venta          105 non-null    int64         \n",
      " 1   Nombre_Cliente    105 non-null    object        \n",
      " 2   Apellido_Cliente  105 non-null    object        \n",
      " 3   Fecha             0 non-null      datetime64[ns]\n",
      " 4   Producto          105 non-null    object        \n",
      " 5   Cantidad          105 non-null    int64         \n",
      " 6   Precio_Unitario   105 non-null    float64       \n",
      " 7   Total_Venta       105 non-null    float64       \n",
      " 8   Metodo_Pago       105 non-null    object        \n",
      " 9   Region            105 non-null    object        \n",
      "dtypes: datetime64[ns](1), float64(2), int64(2), object(5)\n",
      "memory usage: 8.3+ KB\n"
     ]
    }
   ],
   "source": [
    "df[\"Fecha\"]=fecha_correcta\n",
    "df.info()"
   ]
  },
  {
   "cell_type": "markdown",
   "id": "63741820",
   "metadata": {},
   "source": [
    "## corregimos las mayusculas en Nombre y Apellido"
   ]
  },
  {
   "cell_type": "code",
   "execution_count": null,
   "id": "4e2facd0",
   "metadata": {},
   "outputs": [],
   "source": [
    "df[\"Nombre_Cliente\"]=df[\"Nombre_Cliente\"].str.title()\n",
    "df[\"Apellido_Cliente\"]=df[\"Apellido_Cliente\"].str.title()"
   ]
  },
  {
   "cell_type": "markdown",
   "id": "a449d3c8",
   "metadata": {},
   "source": [
    "## Obtenemos las estadísticas descriptivas"
   ]
  },
  {
   "cell_type": "code",
   "execution_count": null,
   "id": "44a16d19",
   "metadata": {},
   "outputs": [],
   "source": [
    "df.describe().round()"
   ]
  },
  {
   "cell_type": "code",
   "execution_count": null,
   "id": "511a1a8a",
   "metadata": {},
   "outputs": [],
   "source": [
    "df.info()"
   ]
  },
  {
   "cell_type": "markdown",
   "id": "eb7c788c",
   "metadata": {},
   "source": [
    "## Agrupamos los totales de venta de los productos"
   ]
  },
  {
   "cell_type": "code",
   "execution_count": null,
   "id": "85b71825",
   "metadata": {},
   "outputs": [],
   "source": [
    "total_ventas=df.groupby(\"Producto\")[[\"Total_Venta\"]].mean().round()\n",
    "total_ventas"
   ]
  },
  {
   "cell_type": "markdown",
   "id": "d961c29b",
   "metadata": {},
   "source": [
    "## Visualización de datos con Matplotlib"
   ]
  },
  {
   "cell_type": "code",
   "execution_count": null,
   "id": "96a6633d",
   "metadata": {},
   "outputs": [],
   "source": [
    "import matplotlib.pyplot as plt\n",
    "\n",
    "ventas=df.groupby(\"Metodo_Pago\")[[\"Total_Venta\"]].mean().round()\n",
    "\n",
    "plt.Figure(figsize=(15,7))\n",
    "plt.title(\"Venta total\")\n",
    "plt.bar(ventas.index,ventas[\"Total_Venta\"].values, color=\"blue\", alpha=0.9, edgecolor=\"black\")\n",
    "plt.grid()\n",
    "plt.xticks(rotation=50)\n",
    "plt.show()"
   ]
  }
 ],
 "metadata": {
  "kernelspec": {
   "display_name": "examen",
   "language": "python",
   "name": "python3"
  },
  "language_info": {
   "codemirror_mode": {
    "name": "ipython",
    "version": 3
   },
   "file_extension": ".py",
   "mimetype": "text/x-python",
   "name": "python",
   "nbconvert_exporter": "python",
   "pygments_lexer": "ipython3",
   "version": "3.12.9"
  }
 },
 "nbformat": 4,
 "nbformat_minor": 5
}
